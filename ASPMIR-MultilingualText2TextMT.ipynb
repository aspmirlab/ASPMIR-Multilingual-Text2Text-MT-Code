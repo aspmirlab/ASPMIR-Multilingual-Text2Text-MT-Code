{
 "cells": [
  {
   "cell_type": "code",
   "execution_count": 5,
   "id": "23e98a8a-7128-4f35-ba1c-ff514ed462e0",
   "metadata": {},
   "outputs": [],
   "source": [
    "##NOTE: Install All the Required Dependencies If Not Yet Installed on Your Device\n",
    "#!pip3 install torch torchvision torchaudio\n",
    "#!pip install transformers ipywidgets gradio --upgrade\n",
    "#!pip install --upgrade transformers accelerate\n",
    "#!pip install --upgrade gradio\n",
    "#!pip install nltk\n",
    "#!pip install jiwer\n",
    "#!pip install sentencepiece\n",
    "#!pip install sacremoses\n",
    "#!pip install soundfile\n",
    "#!pip install librosa numpy jiwer nltk\n",
    "#!pip install --upgrade pip \n",
    "#!pip install huggingface_hub"
   ]
  },
  {
   "cell_type": "code",
   "execution_count": 6,
   "id": "0d2a7d3a-8c2c-4134-a79f-a3b7b1747874",
   "metadata": {},
   "outputs": [],
   "source": [
    "#Import Required Libraries\n",
    "from transformers import pipeline\n",
    "from jiwer import wer\n",
    "from transformers import VitsModel, AutoTokenizer, set_seed\n",
    "from transformers import AutoTokenizer, AutoModelForSeq2SeqLM\n",
    "import torch\n",
    "import soundfile as sf\n",
    "import librosa\n",
    "from scipy.spatial.distance import euclidean\n",
    "import numpy as np\n",
    "import string\n",
    "import os\n",
    "from nltk.translate.bleu_score import sentence_bleu, SmoothingFunction\n",
    "from nltk.translate.meteor_score import meteor_score\n",
    "import string\n",
    "import numpy as np\n",
    "import librosa\n",
    "from scipy.spatial.distance import euclidean\n",
    "import string"
   ]
  },
  {
   "cell_type": "code",
   "execution_count": 7,
   "id": "e2bafb31-ecf6-44e4-b25a-24abfa75bed1",
   "metadata": {},
   "outputs": [
    {
     "name": "stdout",
     "output_type": "stream",
     "text": [
      "['/home/ai4cu/nltk_data', '/opt/tljh/user/nltk_data', '/opt/tljh/user/share/nltk_data', '/opt/tljh/user/lib/nltk_data', '/usr/share/nltk_data', '/usr/local/share/nltk_data', '/usr/lib/nltk_data', '/usr/local/lib/nltk_data', './nltk_data']\n"
     ]
    },
    {
     "name": "stderr",
     "output_type": "stream",
     "text": [
      "[nltk_data] Downloading package wordnet to /home/ai4cu/nltk_data...\n",
      "[nltk_data]   Package wordnet is already up-to-date!\n",
      "[nltk_data] Downloading package omw-1.4 to /home/ai4cu/nltk_data...\n",
      "[nltk_data]   Package omw-1.4 is already up-to-date!\n"
     ]
    }
   ],
   "source": [
    "import nltk\n",
    "nltk.download('wordnet')\n",
    "nltk.download('omw-1.4')  # Optional if using WordNet's multilingual features\n",
    "import nltk\n",
    "print(nltk.data.path)\n",
    "import nltk\n",
    "nltk.data.path.append('./nltk_data')"
   ]
  },
  {
   "cell_type": "code",
   "execution_count": 8,
   "id": "219635ce-7221-4cae-b1c7-142e19bd6694",
   "metadata": {},
   "outputs": [],
   "source": [
    "def translate_transformers(model_name, lang_name, source_text, device=0):\n",
    "    # Load tokenizer and model\n",
    "    tokenizer = AutoTokenizer.from_pretrained(model_name)\n",
    "    model = AutoModelForSeq2SeqLM.from_pretrained(model_name).to(f\"cuda:{device}\" if torch.cuda.is_available() else \"cpu\")\n",
    "\n",
    "    # Handle model-specific config\n",
    "    if \"nllb\" in model_name.lower():\n",
    "        #Facebook NLLB-200-3.3B\n",
    "        #Switch to Selected Language\n",
    "        if lang_name == \"Yoruba\":\n",
    "            tgt_lang_token = \"yor_Latn\"\n",
    "        elif lang_name == \"Hausa\":\n",
    "            tgt_lang_token = \"hau_Latn\"\n",
    "        elif lang_name == \"Igbo\":\n",
    "            tgt_lang_token = \"ibo_Latn\"\n",
    "        elif lang_name == \"French\":\n",
    "            tgt_lang_token = \"fra_Latn\"\n",
    "        else:\n",
    "            raise ValueError(\"Unsupported target language. Choose from 'Yoruba', 'Hausa', 'Igbo'.\")   \n",
    "        tokenizer.src_lang = \"eng_Latn\"\n",
    "        forced_bos_token_id = tokenizer.convert_tokens_to_ids(tgt_lang_token)\n",
    "        inputs = tokenizer(source_text, return_tensors=\"pt\").to(model.device)\n",
    "        outputs = model.generate(\n",
    "            **inputs,\n",
    "            forced_bos_token_id=forced_bos_token_id,\n",
    "            max_length=1000,\n",
    "        )\n",
    "\n",
    "    elif \"m2m100\" in model_name.lower() and lang_name == \"Yoruba\":\n",
    "        # Davlan m2m100_418M-eng-yor-mt\n",
    "        tokenizer.src_lang = \"en\"\n",
    "        tgt_lang_token = \"yo\"\n",
    "        inputs = tokenizer(source_text, return_tensors=\"pt\").to(model.device)\n",
    "\n",
    "        model.config.forced_bos_token_id = tokenizer.lang_code_to_id[tgt_lang_token]\n",
    "\n",
    "        outputs = model.generate(\n",
    "            **inputs,\n",
    "            max_length=1000,\n",
    "        )\n",
    "\n",
    "    else:\n",
    "        raise ValueError(\"Unsupported MT Model or Language. Please Use facebook/nllb-200-3.3B(Supports 200 Languages) or Davlan/m2m100_418M-eng-yor-mt(Finetuned for Yoruba).\")\n",
    "\n",
    "    translated_text = tokenizer.batch_decode(outputs, skip_special_tokens=True)[0]\n",
    "    return translated_text"
   ]
  },
  {
   "cell_type": "code",
   "execution_count": 9,
   "id": "32f9c275-488e-4dad-a915-7ffc86c5e53a",
   "metadata": {},
   "outputs": [],
   "source": [
    "def reset_fields():\n",
    "    return \"\",\"\",\"\",\"\"  # Clear modelName, langName, inputText, and audio output"
   ]
  },
  {
   "cell_type": "code",
   "execution_count": 11,
   "id": "ae29e167-7d35-43b6-b645-17473fa1ba03",
   "metadata": {
    "editable": true,
    "slideshow": {
     "slide_type": ""
    },
    "tags": []
   },
   "outputs": [
    {
     "name": "stdout",
     "output_type": "stream",
     "text": [
      "* Running on local URL:  http://127.0.0.1:7867\n",
      "* Running on public URL: https://5ea1500fe6e15025e0.gradio.live\n",
      "\n",
      "This share link expires in 1 week. For free permanent hosting and GPU upgrades, run `gradio deploy` from the terminal in the working directory to deploy to Hugging Face Spaces (https://huggingface.co/spaces)\n"
     ]
    },
    {
     "data": {
      "text/html": [
       "<div><iframe src=\"https://5ea1500fe6e15025e0.gradio.live\" width=\"100%\" height=\"500\" allow=\"autoplay; camera; microphone; clipboard-read; clipboard-write;\" frameborder=\"0\" allowfullscreen></iframe></div>"
      ],
      "text/plain": [
       "<IPython.core.display.HTML object>"
      ]
     },
     "metadata": {},
     "output_type": "display_data"
    },
    {
     "data": {
      "text/plain": []
     },
     "execution_count": 11,
     "metadata": {},
     "output_type": "execute_result"
    },
    {
     "data": {
      "application/vnd.jupyter.widget-view+json": {
       "model_id": "9360d9c8d9f147bdae5e8cf211b32c5a",
       "version_major": 2,
       "version_minor": 0
      },
      "text/plain": [
       "Loading checkpoint shards:   0%|          | 0/3 [00:00<?, ?it/s]"
      ]
     },
     "metadata": {},
     "output_type": "display_data"
    }
   ],
   "source": [
    "#Define User Interface Function using Gradio and IPython Libraries\n",
    "import gradio as gr\n",
    "from IPython.display import Audio\n",
    "\n",
    "with gr.Blocks() as interface:\n",
    "    #gr.Markdown(description)\n",
    "    with gr.Row():\n",
    "       modelName = gr.Dropdown([\"facebook/nllb-200-3.3B\",\n",
    "                                 \"Davlan/m2m100_418M-eng-yor-mt\"],\n",
    "                               label=\"Select Text2Text Translation Model\", \n",
    "                               allow_custom_value=True)\n",
    "    with gr.Row():\n",
    "       langName = gr.Dropdown([\"Yoruba\",#Lang1\n",
    "                               \"Hausa\", #Lang2\n",
    "                               \"Igbo\",  #Lang3\n",
    "                               \"French\" #Lang4\n",
    "                               ], \n",
    "                               label=\"Select Target Language\",\n",
    "                               allow_custom_value=True)\n",
    "    with gr.Row():\n",
    "        inputText = gr.Textbox(placeholder=\"Enter English Text Here...\",label=\"Input Text\", lines=6)\n",
    "    with gr.Row():\n",
    "        btn = gr.Button(\"Translate\")\n",
    "    with gr.Row():\n",
    "        #output = gr.Audio(type=\"filepath\", label=\"Click Play/Pause to Generate Speech for Current Text and Reset Button for New Language Selection/Text Input\")\n",
    "        outputText = gr.Textbox(value=\"Translated Text Will Appear Here...\", label=\"Translated Text\")\n",
    "    with gr.Row():\n",
    "        reset_btn = gr.Button(\"Reset\")\n",
    "    btn.click(\n",
    "        fn=translate_transformers,\n",
    "        inputs= [modelName, langName, inputText],\n",
    "        outputs=outputText,\n",
    "    )\n",
    "    reset_btn.click(\n",
    "        fn=reset_fields,\n",
    "        inputs=[],\n",
    "        outputs=[modelName, langName, inputText, outputText],\n",
    "    )\n",
    "interface.launch(share=True)"
   ]
  },
  {
   "cell_type": "code",
   "execution_count": null,
   "id": "5694b678-7494-401b-8722-5e4f28180119",
   "metadata": {},
   "outputs": [],
   "source": []
  }
 ],
 "metadata": {
  "kernelspec": {
   "display_name": "Python 3 (ipykernel)",
   "language": "python",
   "name": "python3"
  },
  "language_info": {
   "codemirror_mode": {
    "name": "ipython",
    "version": 3
   },
   "file_extension": ".py",
   "mimetype": "text/x-python",
   "name": "python",
   "nbconvert_exporter": "python",
   "pygments_lexer": "ipython3",
   "version": "3.10.10"
  }
 },
 "nbformat": 4,
 "nbformat_minor": 5
}
